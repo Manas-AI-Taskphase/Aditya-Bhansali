{
 "cells": [
  {
   "cell_type": "code",
   "execution_count": 227,
   "id": "3bdc4fcb-333e-4179-8044-d3f49ff2314b",
   "metadata": {},
   "outputs": [],
   "source": [
    "import pandas as pd \n",
    "import numpy  as np\n",
    "import matplotlib.pyplot as plt"
   ]
  },
  {
   "cell_type": "code",
   "execution_count": 228,
   "id": "0655808e-1140-471b-981d-b26652484311",
   "metadata": {},
   "outputs": [],
   "source": [
    "train = pd.read_csv('train(1).csv')\n",
    "train = train.drop(\"Name\", axis=1)\n",
    "test  =  pd.read_csv('test(1).csv')\n",
    "test  =  test.drop(\"Name\", axis=1)\n",
    "mapping = {'male': 0, 'female': 1} \n",
    "train = train.replace({'Sex': mapping})\n",
    "test = test.replace({'Sex': mapping})\n",
    "\n",
    "column_to_move = train.pop(\"Survived\")\n",
    "column_to_move2 = test.pop(\"Survived\")\n",
    "train.insert(6, \"Survived\", column_to_move)\n",
    "test.insert(6, \"Survived\", column_to_move2)\n",
    "\n",
    "\n",
    "train_data = train.values\n",
    "test_data = test.values\n",
    "\n",
    "X_train = train_data[: , :-1]\n",
    "Y_train = train_data[ : ,-1].reshape(train_data.shape[0],1)\n",
    "X_train = X_train.T\n",
    "Y_train = Y_train.reshape(1,X_train.shape[1])\n",
    "\n",
    "\n",
    "X_test = test_data[: , :-1]\n",
    "Y_test = test_data[ : ,-1].reshape(test_data.shape[0],1)\n",
    "X_test = X_test.T\n",
    "Y_test = Y_test.reshape(1,X_test.shape[1])"
   ]
  },
  {
   "cell_type": "code",
   "execution_count": 229,
   "id": "af11b026-9c0c-42fe-99b1-46b9c54b1724",
   "metadata": {},
   "outputs": [],
   "source": [
    "def sigmoid(z):\n",
    "    return 1/(1 + np.exp(-z))\n",
    "\n",
    "def model(X, Y, alpha, iters):\n",
    "    m = X_train.shape[1]\n",
    "    n = X_train.shape[0]\n",
    "    cost_list = []\n",
    "    w = np.zeros((n,1))\n",
    "    b = 0\n",
    "\n",
    "    for i in range(iters):\n",
    "\n",
    "        Z = np.dot(w.T, X) + b\n",
    "        A = sigmoid(Z)\n",
    "\n",
    "        cost = -(1/m)*np.sum( Y*np.log(A) + (1-Y)*np.log(1-A))\n",
    "\n",
    "        dW = (1/m)*np.dot(A-Y , X.T)\n",
    "        dB = (1/m)*np.sum(A - Y)\n",
    "\n",
    "        w = w - alpha*dW.T\n",
    "        b = b - alpha*dB\n",
    "        cost_list.append(cost)\n",
    "\n",
    "        if i%(iters/10) == 0:\n",
    "            print(\" Cost after \", i, \" Iterations is \", cost)\n",
    "\n",
    "    return w,b, cost_list\n",
    "\n"
   ]
  },
  {
   "cell_type": "code",
   "execution_count": 230,
   "id": "3b3b07b8-f42a-4e6a-9a2e-7e074b836725",
   "metadata": {},
   "outputs": [
    {
     "name": "stdout",
     "output_type": "stream",
     "text": [
      " Cost after  0  Iterations is  0.6931471805599453\n",
      " Cost after  30000  Iterations is  0.560927035590774\n",
      " Cost after  60000  Iterations is  0.5209866973145291\n",
      " Cost after  90000  Iterations is  0.4990428391298468\n",
      " Cost after  120000  Iterations is  0.48639344983120963\n",
      " Cost after  150000  Iterations is  0.47878540999276425\n",
      " Cost after  180000  Iterations is  0.47402909045327496\n",
      " Cost after  210000  Iterations is  0.4709441268737261\n",
      " Cost after  240000  Iterations is  0.4688686479825601\n",
      " Cost after  270000  Iterations is  0.46741896385963805\n"
     ]
    }
   ],
   "source": [
    "iteration = 300000\n",
    "alpha = 0.0002\n",
    "w , b , cost_list = model(X_train , Y_train, alpha = alpha, iters = iteration)"
   ]
  },
  {
   "cell_type": "code",
   "execution_count": null,
   "id": "fa371da8-0804-4dff-85fe-420cc4ab3251",
   "metadata": {},
   "outputs": [],
   "source": [
    "\n"
   ]
  },
  {
   "cell_type": "code",
   "execution_count": 231,
   "id": "c5a52c59-d366-4a28-a6c4-717042384673",
   "metadata": {},
   "outputs": [],
   "source": [
    "def accuracy(X,Y,w,b):\n",
    "    Z = np.dot(w.T , X) + b\n",
    "    A = sigmoid(Z)\n",
    "    A = A > 0.5\n",
    "\n",
    "    A = np.array(A, dtype = 'int64')\n",
    "\n",
    "    acc = (1 - np.sum(np.absolute(A - Y))/Y.shape[1])*100\n",
    "\n",
    "    print(\"Accuracy of the Model in % is : \", acc)"
   ]
  },
  {
   "cell_type": "code",
   "execution_count": 232,
   "id": "73321e6c-df6e-491f-9229-b148a72cfe38",
   "metadata": {},
   "outputs": [
    {
     "name": "stdout",
     "output_type": "stream",
     "text": [
      "Accuracy of the Model in % is :  79.6774193548387\n"
     ]
    }
   ],
   "source": [
    "accuracy(X_test, Y_test, w, b)"
   ]
  },
  {
   "cell_type": "code",
   "execution_count": null,
   "id": "84a9dbcf-6786-40f6-a116-9bbb15178e38",
   "metadata": {},
   "outputs": [],
   "source": []
  },
  {
   "cell_type": "code",
   "execution_count": null,
   "id": "290690bd-353e-4039-9b75-d38febd7a02e",
   "metadata": {},
   "outputs": [],
   "source": []
  }
 ],
 "metadata": {
  "kernelspec": {
   "display_name": "Python 3 (ipykernel)",
   "language": "python",
   "name": "python3"
  },
  "language_info": {
   "codemirror_mode": {
    "name": "ipython",
    "version": 3
   },
   "file_extension": ".py",
   "mimetype": "text/x-python",
   "name": "python",
   "nbconvert_exporter": "python",
   "pygments_lexer": "ipython3",
   "version": "3.8.10"
  }
 },
 "nbformat": 4,
 "nbformat_minor": 5
}
