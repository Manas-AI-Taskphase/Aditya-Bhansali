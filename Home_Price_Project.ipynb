{
 "cells": [
  {
   "cell_type": "code",
   "execution_count": 2,
   "id": "b396a9ba-cf68-4d21-b184-5b883dbf13ed",
   "metadata": {},
   "outputs": [
    {
     "data": {
      "text/plain": [
       "(1168, 10)"
      ]
     },
     "execution_count": 2,
     "metadata": {},
     "output_type": "execute_result"
    }
   ],
   "source": [
    "import pandas as pd\n",
    "import numpy as np\n",
    "training_data=pd.read_csv(\"train.csv\")\n",
    "Y=training_data[\"SalePrice\"]\n",
    "del training_data[\"SalePrice\"]\n",
    "X=training_data\n",
    "X.shape"
   ]
  },
  {
   "cell_type": "code",
   "execution_count": 3,
   "id": "cd4b5e8e-a052-41b0-9864-f682cea96a04",
   "metadata": {},
   "outputs": [
    {
     "data": {
      "text/plain": [
       "array([[ 0.65669017,  0.56985198, -1.04528346, ...,  0.92852386,\n",
       "        -1.51571947, -1.67745507],\n",
       "       [ 0.65669017,  0.23765885, -1.04528346, ...,  0.29725735,\n",
       "        -0.98871868, -1.67745507],\n",
       "       [-0.81127943, -0.3923626 ,  0.30376746, ..., -0.33400916,\n",
       "        -1.38396928,  0.78721474],\n",
       "       ...,\n",
       "       [-0.81127943, -1.39848776, -1.04528346, ..., -0.96527568,\n",
       "        -0.75815584, -1.67745507],\n",
       "       [-0.07729463,  0.26629619, -1.04528346, ...,  0.92852386,\n",
       "        -0.52759299,  0.54558045],\n",
       "       [ 0.65669017, -0.15180895,  0.30376746, ..., -0.96527568,\n",
       "         0.62522124,  0.25561929]])"
      ]
     },
     "execution_count": 3,
     "metadata": {},
     "output_type": "execute_result"
    }
   ],
   "source": [
    "from sklearn.preprocessing import StandardScaler\n",
    "sc=StandardScaler()\n",
    "X_transform=sc.fit_transform(X)\n",
    "X_transform"
   ]
  },
  {
   "cell_type": "code",
   "execution_count": 4,
   "id": "c258bf32-c116-45b8-97cd-d4fc43f9ff4e",
   "metadata": {},
   "outputs": [],
   "source": [
    "def predicted_y(weight,x,intercept):\n",
    "    y_lst=[]\n",
    "    for i in range(len(x)):\n",
    "        y_lst.append(weight@x[i]+intercept)\n",
    "    return np.array(y_lst)"
   ]
  },
  {
   "cell_type": "code",
   "execution_count": 5,
   "id": "0cc6ee59-a90a-4720-9d1a-dc7579c5da00",
   "metadata": {},
   "outputs": [],
   "source": [
    "def loss(y,y_predicted):\n",
    "    n=len(y)\n",
    "    s=0\n",
    "    for i in range(n):\n",
    "        s+=(y[i]-y_predicted[i])**2\n",
    "    return (1/n)*s"
   ]
  },
  {
   "cell_type": "code",
   "execution_count": 6,
   "id": "65faa1a2-8d28-427a-b5ef-f61f74719d1e",
   "metadata": {},
   "outputs": [],
   "source": [
    "def dldw(x,y,y_predicted):\n",
    "    s=0\n",
    "    n=len(y)\n",
    "    for i in range(n):\n",
    "        s+=-x[i]*(y[i]-y_predicted[i])\n",
    "    return (2/n)*s"
   ]
  },
  {
   "cell_type": "code",
   "execution_count": 7,
   "id": "4a8ebfbf-1765-4f2e-affa-b041a1452476",
   "metadata": {},
   "outputs": [],
   "source": [
    "def dldb(y,y_predicted):\n",
    "    n=len(y)\n",
    "    s=0\n",
    "    for i in range(len(y)):\n",
    "        s+=-(y[i]-y_predicted[i])\n",
    "    return (2/n) * s"
   ]
  },
  {
   "cell_type": "code",
   "execution_count": 55,
   "id": "89083873-e272-4a9b-99b9-ac4530c974fa",
   "metadata": {},
   "outputs": [],
   "source": [
    "def gradient_descent(x,y):\n",
    "    weight_vector=np.random.randn(x.shape[1])\n",
    "    intercept=0\n",
    "    epoch = 2500\n",
    "    n = len(x)\n",
    "    linear_loss=[]\n",
    "    learning_rate = 0.005\n",
    "\n",
    "    for i in range(epoch):\n",
    "        \n",
    "        \n",
    "        y_predicted = predicted_y(weight_vector,x,intercept)\n",
    "        \n",
    "        weight_vector = weight_vector - learning_rate *dldw(x,y,y_predicted) \n",
    "        \n",
    "        \n",
    "        intercept = intercept - learning_rate * dldb(y,y_predicted)\n",
    "        linear_loss.append(loss(y,y_predicted))\n",
    "        \n",
    "    plt.plot(np.arange(1,epoch),linear_loss[1:],)\n",
    "    plt.xlabel(\"number of epoch\")\n",
    "    plt.ylabel(\"loss\")\n",
    "    \n",
    "    return weight_vector,intercept\n",
    "    "
   ]
  },
  {
   "cell_type": "code",
   "execution_count": 56,
   "id": "001bd574-3000-4156-85db-edf38e67611c",
   "metadata": {},
   "outputs": [
    {
     "data": {
      "image/png": "[encoded data removed]",
      "text/plain": [
       "<Figure size 640x480 with 1 Axes>"
      ]
     },
     "metadata": {},
     "output_type": "display_data"
    }
   ],
   "source": [
    "import matplotlib.pyplot as plt\n",
    "w,b=gradient_descent(X_transform,Y)"
   ]
  },
  {
   "cell_type": "code",
   "execution_count": 36,
   "id": "ce716095-b9cf-4e2f-8dff-99a11428897c",
   "metadata": {},
   "outputs": [
    {
     "name": "stdout",
     "output_type": "stream",
     "text": [
      "weight: [26948.33208938 25416.38857725  8302.23977535  3740.59068296\n",
      "  7259.86213855  6211.40277388 -3201.80926999   968.63545868\n",
      "  7506.51551492  6087.17769114]\n",
      "bias: 181223.59160736983\n"
     ]
    }
   ],
   "source": [
    "print(\"weight:\",w)\n",
    "print(\"bias:\",b)"
   ]
  },
  {
   "cell_type": "code",
   "execution_count": 37,
   "id": "e813809d-fd5c-4fc1-8cb8-40da272c5b5b",
   "metadata": {},
   "outputs": [],
   "source": [
    "def predict(inp):\n",
    "    y_lst=[]\n",
    "    for i in range(len(inp)):\n",
    "        y_lst.append(w@inp[i]+b)\n",
    "    return np.array(y_lst)\n"
   ]
  },
  {
   "cell_type": "code",
   "execution_count": 38,
   "id": "e79dd670-f7fb-4468-90c8-157ab5b311cb",
   "metadata": {},
   "outputs": [
    {
     "data": {
      "text/plain": [
       "array([176315.37560615, 166010.29578034, 143515.49145305, ...,\n",
       "        87275.50312721, 185979.92818386, 211202.01144039])"
      ]
     },
     "execution_count": 38,
     "metadata": {},
     "output_type": "execute_result"
    }
   ],
   "source": [
    "y_pred=predict(X_transform)\n",
    "y_pred"
   ]
  },
  {
   "cell_type": "code",
   "execution_count": 39,
   "id": "5b3193d0-5cff-43ee-8273-d66382b5202c",
   "metadata": {},
   "outputs": [
    {
     "data": {
      "text/html": [
       "<div>\n",
       "<style scoped>\n",
       "    .dataframe tbody tr th:only-of-type {\n",
       "        vertical-align: middle;\n",
       "    }\n",
       "\n",
       "    .dataframe tbody tr th {\n",
       "        vertical-align: top;\n",
       "    }\n",
       "\n",
       "    .dataframe thead th {\n",
       "        text-align: right;\n",
       "    }\n",
       "</style>\n",
       "<table border=\"1\" class=\"dataframe\">\n",
       "  <thead>\n",
       "    <tr style=\"text-align: right;\">\n",
       "      <th></th>\n",
       "      <th>y_actual</th>\n",
       "      <th>y_predicted</th>\n",
       "    </tr>\n",
       "  </thead>\n",
       "  <tbody>\n",
       "    <tr>\n",
       "      <th>0</th>\n",
       "      <td>184000</td>\n",
       "      <td>176315.4</td>\n",
       "    </tr>\n",
       "    <tr>\n",
       "      <th>1</th>\n",
       "      <td>164000</td>\n",
       "      <td>166010.3</td>\n",
       "    </tr>\n",
       "    <tr>\n",
       "      <th>2</th>\n",
       "      <td>130000</td>\n",
       "      <td>143515.5</td>\n",
       "    </tr>\n",
       "    <tr>\n",
       "      <th>3</th>\n",
       "      <td>555000</td>\n",
       "      <td>386796.8</td>\n",
       "    </tr>\n",
       "    <tr>\n",
       "      <th>4</th>\n",
       "      <td>176000</td>\n",
       "      <td>197838.2</td>\n",
       "    </tr>\n",
       "    <tr>\n",
       "      <th>...</th>\n",
       "      <td>...</td>\n",
       "      <td>...</td>\n",
       "    </tr>\n",
       "    <tr>\n",
       "      <th>1163</th>\n",
       "      <td>149500</td>\n",
       "      <td>163730.6</td>\n",
       "    </tr>\n",
       "    <tr>\n",
       "      <th>1164</th>\n",
       "      <td>160000</td>\n",
       "      <td>185760.5</td>\n",
       "    </tr>\n",
       "    <tr>\n",
       "      <th>1165</th>\n",
       "      <td>115000</td>\n",
       "      <td>87275.5</td>\n",
       "    </tr>\n",
       "    <tr>\n",
       "      <th>1166</th>\n",
       "      <td>165500</td>\n",
       "      <td>185979.9</td>\n",
       "    </tr>\n",
       "    <tr>\n",
       "      <th>1167</th>\n",
       "      <td>180500</td>\n",
       "      <td>211202.0</td>\n",
       "    </tr>\n",
       "  </tbody>\n",
       "</table>\n",
       "<p>1168 rows × 2 columns</p>\n",
       "</div>"
      ],
      "text/plain": [
       "      y_actual  y_predicted\n",
       "0       184000     176315.4\n",
       "1       164000     166010.3\n",
       "2       130000     143515.5\n",
       "3       555000     386796.8\n",
       "4       176000     197838.2\n",
       "...        ...          ...\n",
       "1163    149500     163730.6\n",
       "1164    160000     185760.5\n",
       "1165    115000      87275.5\n",
       "1166    165500     185979.9\n",
       "1167    180500     211202.0\n",
       "\n",
       "[1168 rows x 2 columns]"
      ]
     },
     "execution_count": 39,
     "metadata": {},
     "output_type": "execute_result"
    }
   ],
   "source": [
    "df_pred=pd.DataFrame()\n",
    "df_pred[\"y_actual\"]=Y\n",
    "df_pred[\"y_predicted\"]=np.round(y_pred,1)\n",
    "df_pred"
   ]
  },
  {
   "cell_type": "code",
   "execution_count": null,
   "id": "08e9ae6c-a664-4738-8157-74f13abee65b",
   "metadata": {},
   "outputs": [],
   "source": [
    "\n"
   ]
  },
  {
   "cell_type": "code",
   "execution_count": 40,
   "id": "0d2f48b6-76c8-4e73-9706-3a56e4610295",
   "metadata": {},
   "outputs": [
    {
     "data": {
      "text/plain": [
       "array([[ 1.31834832,  0.9022699 ,  1.64321655, ...,  0.85919977,\n",
       "         1.14386966,  1.00514251],\n",
       "       [-0.05160794,  0.26525808, -0.9574297 , ..., -0.26585105,\n",
       "        -0.483793  ,  0.12316771],\n",
       "       [ 0.63337019, -0.50556391,  0.34289343, ..., -1.39090187,\n",
       "         1.10996002,  0.95614391],\n",
       "       ...,\n",
       "       [-0.05160794, -1.21230779,  0.34289343, ..., -1.39090187,\n",
       "         1.04214074,  0.85814671],\n",
       "       [ 0.63337019, -0.42452394,  0.34289343, ..., -0.26585105,\n",
       "         1.1777793 ,  1.0541411 ],\n",
       "       [-0.05160794, -0.01367017,  0.34289343, ...,  0.85919977,\n",
       "         1.10996002,  1.0541411 ]])"
      ]
     },
     "execution_count": 40,
     "metadata": {},
     "output_type": "execute_result"
    }
   ],
   "source": [
    "test_data=pd.read_csv('test.csv')\n",
    "n=test_data[\"SalePrice\"]\n",
    "del test_data[\"SalePrice\"]\n",
    "m=test_data\n",
    "M_transform=sc.fit_transform(m)\n",
    "M_transform"
   ]
  },
  {
   "cell_type": "code",
   "execution_count": 41,
   "id": "4ea31999-d778-4c55-babd-10eb92dc4a45",
   "metadata": {},
   "outputs": [
    {
     "data": {
      "text/plain": [
       "array([271315.98408329, 181910.53712162, 180556.84532124, 181232.27252101,\n",
       "        80144.15583618, 108376.36153282, 117627.55898752, 190173.59478596,\n",
       "       212314.74592563, 162284.19528972, 218878.3564074 , 121474.21594168,\n",
       "       176705.2408331 , 143831.75117238, 285229.13786701, 168840.23859731,\n",
       "       206760.19344378, 230835.83561639, 150566.78811608, 157234.45769211,\n",
       "       236405.56264153, 268802.23784924, 198195.37115518, 128356.57625318,\n",
       "       243727.71438767, 148555.86210529, 213546.55475528,  93687.2238083 ,\n",
       "       141923.12427497, 171374.58433249, 281452.92441572, 184699.0661614 ,\n",
       "       179711.36369783, 133358.02984883, 151059.33944148, 146453.80517056,\n",
       "        16539.49868604, 244990.65687197, 358185.96909886, 184582.77455462,\n",
       "       137376.8897408 , 107665.39786667,  67316.44597159,  65194.3653869 ,\n",
       "       154300.98413532, 165652.38369417,  88289.20161299, 235167.91615413,\n",
       "       110070.3305567 , 165258.84023381, 127175.57421035, 231763.50729446,\n",
       "       255028.49335825, 225321.52176133, 123687.8701639 , 119192.98446208,\n",
       "       215665.36003669, 222334.72101362, 224946.45884605,  93176.50748366,\n",
       "       181673.84910252, 180653.8717994 ,  98098.86301042, 241088.42026006,\n",
       "       149620.8717122 , 140254.76965221, 186213.61642299, 310198.50922069,\n",
       "       175349.55636576, 129025.06724953, 293628.61290825, 127421.9671245 ,\n",
       "       219354.9659301 , 207185.49216449, 214621.82212807, 118286.44789189,\n",
       "       160432.25259036, 147513.23028318, 112411.10578918, 195994.11059177,\n",
       "       310483.72822091, 246221.83056172, 161023.08724679, 174391.29535932,\n",
       "       298350.47258252, 197282.0745958 , 129271.19827858, 101534.29171218,\n",
       "       250954.89482975, 269929.29205182, 190940.4854037 , 157735.11604451,\n",
       "       141422.31049938, 214312.02170812, 201531.85226525, 169711.65292476,\n",
       "       182238.17914451, 119406.23101621, 202442.26751887, 128476.79498106,\n",
       "       298911.31344887, 122080.14664353, 146286.39602987, 175009.50343591,\n",
       "       108031.20061686, 192202.47217887, 212091.28796849, 116969.42257249,\n",
       "       146358.82645321, 132207.77551823, 138812.98505387, 120946.56895279,\n",
       "       144523.60159682, 229905.2746326 , 192538.56185551, 132354.42309184,\n",
       "       182417.12096407, 148049.6234025 , 239667.69736776, 136958.71054414,\n",
       "       152501.72649274, 181893.80770711, 150883.33611754, 239655.48574993,\n",
       "       198248.31793675, 135220.35859395, 125262.73922293, 108399.8461918 ,\n",
       "       168853.7752433 , 165858.83288466, 295732.17310927, 168933.80964215,\n",
       "        70599.7340039 , 155164.50695435, 305946.1255034 , 132172.94702158,\n",
       "       239130.86537066, 245398.38009945, 115922.80253383, 260250.49037845,\n",
       "       120601.5057242 , 310006.95209572, 119966.99763605, 168310.03243281,\n",
       "       257845.55328187,  75685.32466754, 148907.51692473, 254810.05759905,\n",
       "       284439.10252817, 131194.0287055 , 304140.12856979, 174117.85837923,\n",
       "       318984.12940287, 184905.86765363, 138936.48112779, 151536.02870401,\n",
       "       228587.41438301, 143151.06206179, 247320.57239676,  42276.11342771,\n",
       "       195362.03915185, 131269.72763012, 238810.7809994 , 141497.11504548,\n",
       "        95594.16320009, 173584.18447534, 218494.5101809 , 308932.22620875,\n",
       "       168375.9143157 , 127560.65265428, 118408.59984804,  99861.33218844,\n",
       "       141919.35074889,  74122.13404922, 327909.71936772, 244145.73013856,\n",
       "       249487.34941772, 228861.98828939, 237842.68976644, 221044.97577007,\n",
       "       156542.43157226,  97163.98070481, 129566.41722658, 164321.37570933,\n",
       "        56009.83855613, 109056.46670877, 213934.75224256, 107369.29583006,\n",
       "       230111.06076405, 145909.52352117, 135389.46822263, 118096.60901744,\n",
       "       376925.13465017, 317045.04322983, 248884.8940482 , 196862.00594239,\n",
       "       227604.87251882, 111783.82407606, 199187.29839664, 304258.85545297,\n",
       "       221266.95418326, 147685.85032429, 188457.45497163, 192286.23610495,\n",
       "       102841.42854204, 214545.27543341, 219965.91910767, 192061.29618847,\n",
       "       231096.87915761, 173292.93834441,  84145.53871735, 156334.61483617,\n",
       "       290110.52635261, 313694.50007793, 158267.77624559, 172615.02028759,\n",
       "         5932.60996549, 260815.7452182 ,  67254.28653351, 111283.55099681,\n",
       "       291709.96582811, 120232.91231192, 224386.52467053, 254278.75306205,\n",
       "       256525.92505146,  47254.77123581, 182471.06850741, 214681.69838488,\n",
       "       245385.29792321, 268164.04886253, 175725.81872315, 201398.00047629,\n",
       "       228008.73494322, 351398.77093359, 317158.69161847,  87362.55622242,\n",
       "       253209.21872805, 212915.05355742,  89326.00158933, 181651.46067539,\n",
       "       178898.85506516, 187156.11294896, 266995.83654513,  54904.22573392,\n",
       "       153385.19120221, 245175.16234975, 314093.51614777, 152610.16939252,\n",
       "       157054.63020949, 145718.05890451, 213309.52104638, 138048.78618025,\n",
       "       219466.42988359, 125723.27215761, 194124.04485167, 319495.89269352,\n",
       "       213300.38104834, 156916.42275038, 104656.08508695, 266063.57489177,\n",
       "       120392.14736496, 182763.4942096 ,  51387.55598813, 111443.4295175 ,\n",
       "        96055.91249237, 184482.44931068, 164741.09411417, 255441.85932219,\n",
       "       174323.67161845, 137446.74819821, 224587.45959095, 161807.63800768,\n",
       "       364354.63271124, 150669.00734664, 236435.26874485, 125872.19225347,\n",
       "       114584.55894674, 155092.00378566, 118778.41499767, 318941.18327804,\n",
       "        94642.68648218,  75194.59317002, 196016.50824549, 121905.04834789,\n",
       "       214650.44592911, 292670.03972668, 121979.39334673, 186351.36283468,\n",
       "       131894.62739725, 157226.53334059, 207110.96538311, 183393.00700999])"
      ]
     },
     "execution_count": 41,
     "metadata": {},
     "output_type": "execute_result"
    }
   ],
   "source": [
    "a=np.dot(M_transform,w)\n",
    "n_pred=a+b\n",
    "n_pred\n",
    "\n"
   ]
  },
  {
   "cell_type": "code",
   "execution_count": 42,
   "id": "a87559ac-05e5-4141-ae0c-1432ac797e51",
   "metadata": {},
   "outputs": [
    {
     "data": {
      "text/html": [
       "<div>\n",
       "<style scoped>\n",
       "    .dataframe tbody tr th:only-of-type {\n",
       "        vertical-align: middle;\n",
       "    }\n",
       "\n",
       "    .dataframe tbody tr th {\n",
       "        vertical-align: top;\n",
       "    }\n",
       "\n",
       "    .dataframe thead th {\n",
       "        text-align: right;\n",
       "    }\n",
       "</style>\n",
       "<table border=\"1\" class=\"dataframe\">\n",
       "  <thead>\n",
       "    <tr style=\"text-align: right;\">\n",
       "      <th></th>\n",
       "      <th>n_actual</th>\n",
       "      <th>n_predicted</th>\n",
       "    </tr>\n",
       "  </thead>\n",
       "  <tbody>\n",
       "    <tr>\n",
       "      <th>0</th>\n",
       "      <td>281000</td>\n",
       "      <td>271316.0</td>\n",
       "    </tr>\n",
       "    <tr>\n",
       "      <th>1</th>\n",
       "      <td>139000</td>\n",
       "      <td>181910.5</td>\n",
       "    </tr>\n",
       "    <tr>\n",
       "      <th>2</th>\n",
       "      <td>147400</td>\n",
       "      <td>180556.8</td>\n",
       "    </tr>\n",
       "    <tr>\n",
       "      <th>3</th>\n",
       "      <td>153500</td>\n",
       "      <td>181232.3</td>\n",
       "    </tr>\n",
       "    <tr>\n",
       "      <th>4</th>\n",
       "      <td>86000</td>\n",
       "      <td>80144.2</td>\n",
       "    </tr>\n",
       "    <tr>\n",
       "      <th>...</th>\n",
       "      <td>...</td>\n",
       "      <td>...</td>\n",
       "    </tr>\n",
       "    <tr>\n",
       "      <th>287</th>\n",
       "      <td>158000</td>\n",
       "      <td>186351.4</td>\n",
       "    </tr>\n",
       "    <tr>\n",
       "      <th>288</th>\n",
       "      <td>118000</td>\n",
       "      <td>131894.6</td>\n",
       "    </tr>\n",
       "    <tr>\n",
       "      <th>289</th>\n",
       "      <td>140000</td>\n",
       "      <td>157226.5</td>\n",
       "    </tr>\n",
       "    <tr>\n",
       "      <th>290</th>\n",
       "      <td>159895</td>\n",
       "      <td>207111.0</td>\n",
       "    </tr>\n",
       "    <tr>\n",
       "      <th>291</th>\n",
       "      <td>178900</td>\n",
       "      <td>183393.0</td>\n",
       "    </tr>\n",
       "  </tbody>\n",
       "</table>\n",
       "<p>292 rows × 2 columns</p>\n",
       "</div>"
      ],
      "text/plain": [
       "     n_actual  n_predicted\n",
       "0      281000     271316.0\n",
       "1      139000     181910.5\n",
       "2      147400     180556.8\n",
       "3      153500     181232.3\n",
       "4       86000      80144.2\n",
       "..        ...          ...\n",
       "287    158000     186351.4\n",
       "288    118000     131894.6\n",
       "289    140000     157226.5\n",
       "290    159895     207111.0\n",
       "291    178900     183393.0\n",
       "\n",
       "[292 rows x 2 columns]"
      ]
     },
     "execution_count": 42,
     "metadata": {},
     "output_type": "execute_result"
    }
   ],
   "source": [
    "df_preds=pd.DataFrame()\n",
    "df_preds[\"n_actual\"]=n\n",
    "df_preds[\"n_predicted\"]=np.round(n_pred,1)\n",
    "df_preds"
   ]
  },
  {
   "cell_type": "code",
   "execution_count": 44,
   "id": "c31d3c42-320c-417c-bd2f-37de8d2f2900",
   "metadata": {},
   "outputs": [
    {
     "name": "stdout",
     "output_type": "stream",
     "text": [
      "The accuracy of our model is 82.0%\n"
     ]
    }
   ],
   "source": [
    "from sklearn.metrics import r2_score\n",
    "score = r2_score(df_preds[\"n_actual\"], df_preds[\"n_predicted\"])\n",
    "print(\"The accuracy of our model is {}%\".format(round(score, 2) *100))"
   ]
  },
  {
   "cell_type": "code",
   "execution_count": 57,
   "id": "e0a716e7-d376-427a-bd17-c5510ee9cab8",
   "metadata": {},
   "outputs": [
    {
     "data": {
      "text/plain": [
       "'82.0'"
      ]
     },
     "execution_count": 57,
     "metadata": {},
     "output_type": "execute_result"
    }
   ],
   "source": [
    "accuracy=format(round(score, 2) *100)\n",
    "accuracy"
   ]
  },
  {
   "cell_type": "code",
   "execution_count": null,
   "id": "966f80e2-c9dc-4027-b770-7324fc74422f",
   "metadata": {},
   "outputs": [],
   "source": []
  }
 ],
 "metadata": {
  "kernelspec": {
   "display_name": "Python 3 (ipykernel)",
   "language": "python",
   "name": "python3"
  },
  "language_info": {
   "codemirror_mode": {
    "name": "ipython",
    "version": 3
   },
   "file_extension": ".py",
   "mimetype": "text/x-python",
   "name": "python",
   "nbconvert_exporter": "python",
   "pygments_lexer": "ipython3",
   "version": "3.8.10"
  }
 },
 "nbformat": 4,
 "nbformat_minor": 5
}
