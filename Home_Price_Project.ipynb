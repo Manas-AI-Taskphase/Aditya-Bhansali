{
 "cells": [
  {
   "cell_type": "code",
   "execution_count": 121,
   "id": "b396a9ba-cf68-4d21-b184-5b883dbf13ed",
   "metadata": {},
   "outputs": [
    {
     "data": {
      "text/plain": [
       "(1168, 10)"
      ]
     },
     "execution_count": 121,
     "metadata": {},
     "output_type": "execute_result"
    }
   ],
   "source": [
    "import pandas as pd\n",
    "import numpy as np\n",
    "training_data=pd.read_csv(\"train.csv\")\n",
    "Y=training_data[\"SalePrice\"]\n",
    "del training_data[\"SalePrice\"]\n",
    "X=training_data\n",
    "X.shape"
   ]
  },
  {
   "cell_type": "code",
   "execution_count": 122,
   "id": "cd4b5e8e-a052-41b0-9864-f682cea96a04",
   "metadata": {},
   "outputs": [
    {
     "data": {
      "text/plain": [
       "array([[ 0.65669017,  0.56985198, -1.04528346, ...,  0.92852386,\n",
       "        -1.51571947, -1.67745507],\n",
       "       [ 0.65669017,  0.23765885, -1.04528346, ...,  0.29725735,\n",
       "        -0.98871868, -1.67745507],\n",
       "       [-0.81127943, -0.3923626 ,  0.30376746, ..., -0.33400916,\n",
       "        -1.38396928,  0.78721474],\n",
       "       ...,\n",
       "       [-0.81127943, -1.39848776, -1.04528346, ..., -0.96527568,\n",
       "        -0.75815584, -1.67745507],\n",
       "       [-0.07729463,  0.26629619, -1.04528346, ...,  0.92852386,\n",
       "        -0.52759299,  0.54558045],\n",
       "       [ 0.65669017, -0.15180895,  0.30376746, ..., -0.96527568,\n",
       "         0.62522124,  0.25561929]])"
      ]
     },
     "execution_count": 122,
     "metadata": {},
     "output_type": "execute_result"
    }
   ],
   "source": [
    "from sklearn.preprocessing import StandardScaler\n",
    "sc=StandardScaler()\n",
    "X_transform=sc.fit_transform(X)\n",
    "X_transform"
   ]
  },
  {
   "cell_type": "code",
   "execution_count": 123,
   "id": "c258bf32-c116-45b8-97cd-d4fc43f9ff4e",
   "metadata": {},
   "outputs": [],
   "source": [
    "def predicted_y(weight,x,intercept):\n",
    "    y_lst=[]\n",
    "    for i in range(len(x)):\n",
    "        y_lst.append(weight@x[i]+intercept)\n",
    "    return np.array(y_lst)"
   ]
  },
  {
   "cell_type": "code",
   "execution_count": 124,
   "id": "0cc6ee59-a90a-4720-9d1a-dc7579c5da00",
   "metadata": {},
   "outputs": [],
   "source": [
    "def loss(y,y_predicted):\n",
    "    n=len(y)\n",
    "    s=0\n",
    "    for i in range(n):\n",
    "        s+=(y[i]-y_predicted[i])**2\n",
    "    return (1/n)*s"
   ]
  },
  {
   "cell_type": "code",
   "execution_count": 125,
   "id": "65faa1a2-8d28-427a-b5ef-f61f74719d1e",
   "metadata": {},
   "outputs": [],
   "source": [
    "def dldw(x,y,y_predicted):\n",
    "    s=0\n",
    "    n=len(y)\n",
    "    for i in range(n):\n",
    "        s+=-x[i]*(y[i]-y_predicted[i])\n",
    "    return (2/n)*s"
   ]
  },
  {
   "cell_type": "code",
   "execution_count": 126,
   "id": "4a8ebfbf-1765-4f2e-affa-b041a1452476",
   "metadata": {},
   "outputs": [],
   "source": [
    "def dldb(y,y_predicted):\n",
    "    n=len(y)\n",
    "    s=0\n",
    "    for i in range(len(y)):\n",
    "        s+=-(y[i]-y_predicted[i])\n",
    "    return (2/n) * s"
   ]
  },
  {
   "cell_type": "code",
   "execution_count": 127,
   "id": "89083873-e272-4a9b-99b9-ac4530c974fa",
   "metadata": {},
   "outputs": [],
   "source": [
    "def gradient_descent(x,y):\n",
    "    weight_vector=np.random.randn(x.shape[1])\n",
    "    intercept=0\n",
    "    epoch = 2000\n",
    "    n = len(x)\n",
    "    linear_loss=[]\n",
    "    learning_rate = 0.001\n",
    "\n",
    "    for i in range(epoch):\n",
    "        \n",
    "        \n",
    "        y_predicted = predicted_y(weight_vector,x,intercept)\n",
    "        \n",
    "        weight_vector = weight_vector - learning_rate *dldw(x,y,y_predicted) \n",
    "        \n",
    "        \n",
    "        intercept = intercept - learning_rate * dldb(y,y_predicted)\n",
    "        linear_loss.append(loss(y,y_predicted))\n",
    "        \n",
    "    plt.plot(np.arange(1,epoch),linear_loss[1:])\n",
    "    plt.xlabel(\"number of epoch\")\n",
    "    plt.ylabel(\"loss\")\n",
    "    \n",
    "    return weight_vector,intercept\n",
    "    "
   ]
  },
  {
   "cell_type": "code",
   "execution_count": 128,
   "id": "001bd574-3000-4156-85db-edf38e67611c",
   "metadata": {},
   "outputs": [
    {
     "data": {
      "image/png": "[encoded data removed]",
      "text/plain": [
       "<Figure size 640x480 with 1 Axes>"
      ]
     },
     "metadata": {},
     "output_type": "display_data"
    }
   ],
   "source": [
    "import matplotlib.pyplot as plt\n",
    "w,b=gradient_descent(X_transform,Y)"
   ]
  },
  {
   "cell_type": "code",
   "execution_count": 131,
   "id": "ce716095-b9cf-4e2f-8dff-99a11428897c",
   "metadata": {},
   "outputs": [
    {
     "name": "stdout",
     "output_type": "stream",
     "text": [
      "weight: [24258.97848737 18609.8749128   7097.23220959  6088.94815029\n",
      "  8817.80038067  6852.47775194  -158.03806309  5486.39396053\n",
      "  6670.31838981  6953.41782342]\n",
      "bias: 177917.6337908714\n"
     ]
    }
   ],
   "source": [
    "print(\"weight:\",w)\n",
    "print(\"bias:\",b)"
   ]
  },
  {
   "cell_type": "code",
   "execution_count": 132,
   "id": "e813809d-fd5c-4fc1-8cb8-40da272c5b5b",
   "metadata": {},
   "outputs": [],
   "source": [
    "def predict(inp):\n",
    "    y_lst=[]\n",
    "    for i in range(len(inp)):\n",
    "        y_lst.append(w@inp[i]+b)\n",
    "    return np.array(y_lst)\n"
   ]
  },
  {
   "cell_type": "code",
   "execution_count": 133,
   "id": "e79dd670-f7fb-4468-90c8-157ab5b311cb",
   "metadata": {},
   "outputs": [
    {
     "data": {
      "text/plain": [
       "array([172269.3407019 , 160198.97774451, 141060.18427699, ...,\n",
       "        84490.62208566, 183734.76371085, 206550.29488738])"
      ]
     },
     "execution_count": 133,
     "metadata": {},
     "output_type": "execute_result"
    }
   ],
   "source": [
    "y_pred=predict(X_transform)\n",
    "y_pred"
   ]
  },
  {
   "cell_type": "code",
   "execution_count": 134,
   "id": "5b3193d0-5cff-43ee-8273-d66382b5202c",
   "metadata": {},
   "outputs": [
    {
     "data": {
      "text/html": [
       "<div>\n",
       "<style scoped>\n",
       "    .dataframe tbody tr th:only-of-type {\n",
       "        vertical-align: middle;\n",
       "    }\n",
       "\n",
       "    .dataframe tbody tr th {\n",
       "        vertical-align: top;\n",
       "    }\n",
       "\n",
       "    .dataframe thead th {\n",
       "        text-align: right;\n",
       "    }\n",
       "</style>\n",
       "<table border=\"1\" class=\"dataframe\">\n",
       "  <thead>\n",
       "    <tr style=\"text-align: right;\">\n",
       "      <th></th>\n",
       "      <th>y_actual</th>\n",
       "      <th>y_predicted</th>\n",
       "    </tr>\n",
       "  </thead>\n",
       "  <tbody>\n",
       "    <tr>\n",
       "      <th>0</th>\n",
       "      <td>184000</td>\n",
       "      <td>172269.3</td>\n",
       "    </tr>\n",
       "    <tr>\n",
       "      <th>1</th>\n",
       "      <td>164000</td>\n",
       "      <td>160199.0</td>\n",
       "    </tr>\n",
       "    <tr>\n",
       "      <th>2</th>\n",
       "      <td>130000</td>\n",
       "      <td>141060.2</td>\n",
       "    </tr>\n",
       "    <tr>\n",
       "      <th>3</th>\n",
       "      <td>555000</td>\n",
       "      <td>385979.7</td>\n",
       "    </tr>\n",
       "    <tr>\n",
       "      <th>4</th>\n",
       "      <td>176000</td>\n",
       "      <td>196556.9</td>\n",
       "    </tr>\n",
       "    <tr>\n",
       "      <th>...</th>\n",
       "      <td>...</td>\n",
       "      <td>...</td>\n",
       "    </tr>\n",
       "    <tr>\n",
       "      <th>1163</th>\n",
       "      <td>149500</td>\n",
       "      <td>154101.2</td>\n",
       "    </tr>\n",
       "    <tr>\n",
       "      <th>1164</th>\n",
       "      <td>160000</td>\n",
       "      <td>180693.8</td>\n",
       "    </tr>\n",
       "    <tr>\n",
       "      <th>1165</th>\n",
       "      <td>115000</td>\n",
       "      <td>84490.6</td>\n",
       "    </tr>\n",
       "    <tr>\n",
       "      <th>1166</th>\n",
       "      <td>165500</td>\n",
       "      <td>183734.8</td>\n",
       "    </tr>\n",
       "    <tr>\n",
       "      <th>1167</th>\n",
       "      <td>180500</td>\n",
       "      <td>206550.3</td>\n",
       "    </tr>\n",
       "  </tbody>\n",
       "</table>\n",
       "<p>1168 rows × 2 columns</p>\n",
       "</div>"
      ],
      "text/plain": [
       "      y_actual  y_predicted\n",
       "0       184000     172269.3\n",
       "1       164000     160199.0\n",
       "2       130000     141060.2\n",
       "3       555000     385979.7\n",
       "4       176000     196556.9\n",
       "...        ...          ...\n",
       "1163    149500     154101.2\n",
       "1164    160000     180693.8\n",
       "1165    115000      84490.6\n",
       "1166    165500     183734.8\n",
       "1167    180500     206550.3\n",
       "\n",
       "[1168 rows x 2 columns]"
      ]
     },
     "execution_count": 134,
     "metadata": {},
     "output_type": "execute_result"
    }
   ],
   "source": [
    "df_pred=pd.DataFrame()\n",
    "df_pred[\"y_actual\"]=Y\n",
    "df_pred[\"y_predicted\"]=np.round(y_pred,1)\n",
    "df_pred"
   ]
  },
  {
   "cell_type": "code",
   "execution_count": 135,
   "id": "08e9ae6c-a664-4738-8157-74f13abee65b",
   "metadata": {},
   "outputs": [
    {
     "data": {
      "text/plain": [
       "177917.6337908714"
      ]
     },
     "execution_count": 135,
     "metadata": {},
     "output_type": "execute_result"
    }
   ],
   "source": [
    "\n"
   ]
  },
  {
   "cell_type": "code",
   "execution_count": 110,
   "id": "0d2f48b6-76c8-4e73-9706-3a56e4610295",
   "metadata": {},
   "outputs": [
    {
     "data": {
      "text/plain": [
       "array([[ 1.31834832,  0.9022699 ,  1.64321655, ...,  0.85919977,\n",
       "         1.14386966,  1.00514251],\n",
       "       [-0.05160794,  0.26525808, -0.9574297 , ..., -0.26585105,\n",
       "        -0.483793  ,  0.12316771],\n",
       "       [ 0.63337019, -0.50556391,  0.34289343, ..., -1.39090187,\n",
       "         1.10996002,  0.95614391],\n",
       "       ...,\n",
       "       [-0.05160794, -1.21230779,  0.34289343, ..., -1.39090187,\n",
       "         1.04214074,  0.85814671],\n",
       "       [ 0.63337019, -0.42452394,  0.34289343, ..., -0.26585105,\n",
       "         1.1777793 ,  1.0541411 ],\n",
       "       [-0.05160794, -0.01367017,  0.34289343, ...,  0.85919977,\n",
       "         1.10996002,  1.0541411 ]])"
      ]
     },
     "execution_count": 110,
     "metadata": {},
     "output_type": "execute_result"
    }
   ],
   "source": [
    "test_data=pd.read_csv('test.csv')\n",
    "n=test_data[\"SalePrice\"]\n",
    "del test_data[\"SalePrice\"]\n",
    "m=test_data\n",
    "M_transform=sc.fit_transform(m)\n",
    "M_transform"
   ]
  },
  {
   "cell_type": "code",
   "execution_count": 136,
   "id": "4ea31999-d778-4c55-babd-10eb92dc4a45",
   "metadata": {},
   "outputs": [
    {
     "data": {
      "text/plain": [
       "array([265723.61532579, 179969.59063275, 172001.30369099, 178543.28875404,\n",
       "        77581.6614211 , 107105.02587462, 113654.91769727, 191916.18139846,\n",
       "       204425.68205256, 155165.09513918, 212750.49595869, 120993.40647882,\n",
       "       167933.44567936, 143102.47462403, 276752.45202021, 163648.86536323,\n",
       "       200297.77608485, 225217.7858969 , 150197.36626188, 148375.28650198,\n",
       "       229145.20358558, 265813.68465671, 193641.29231719, 128907.4000525 ,\n",
       "       236141.46114129, 145507.45331419, 208733.18882123,  99270.94149017,\n",
       "       143558.47628448, 166332.0728703 , 280737.74404918, 185433.07312208,\n",
       "       180146.88136846, 130099.56156408, 144318.27238659, 149681.53621899,\n",
       "        14691.01349052, 235879.2402676 , 356616.68953573, 181297.54809258,\n",
       "       137318.49200776, 111099.74962162,  63568.30305644,  64228.96153418,\n",
       "       144185.49356398, 160492.79221654,  87935.25115954, 232358.46064862,\n",
       "       116405.36641536, 155027.7802991 , 127556.67075374, 226696.71367264,\n",
       "       251446.50238013, 226747.45858413, 120318.6977806 , 111543.39791236,\n",
       "       214728.20897663, 222853.72213646, 222266.25647919,  90537.52122578,\n",
       "       178116.50323094, 180814.5370071 ,  96394.31693118, 240403.09199243,\n",
       "       145453.47873435, 133503.40204553, 184538.29630266, 302233.60981689,\n",
       "       177276.26445349, 126611.01761561, 290706.31316594, 127350.07446223,\n",
       "       220977.53815286, 200775.68144059, 213714.8271035 , 112299.53413673,\n",
       "       162213.00588875, 142483.84098213, 110146.93555742, 191071.13664139,\n",
       "       306063.25653482, 241354.59337349, 157683.4167676 , 169570.66939732,\n",
       "       292923.45283146, 202081.33344835, 133207.22127621, 104399.20007128,\n",
       "       245648.15089365, 264629.54290691, 179294.6763856 , 155287.05093766,\n",
       "       136659.62392307, 205847.41123044, 191593.59149557, 157957.01828461,\n",
       "       178306.42639762, 106758.11934159, 211167.98116447, 127027.32916415,\n",
       "       292291.69770228, 120087.7271584 , 144192.71543542, 177905.34158446,\n",
       "       109923.42042684, 186870.69089122, 211063.02005171, 113306.07533137,\n",
       "       149037.14657773, 132671.82689989, 132824.70639216, 119700.52589761,\n",
       "       144732.32017405, 227507.08610377, 191591.80739617, 130267.72781504,\n",
       "       178109.94667326, 149029.81812959, 231971.76862036, 137110.69715231,\n",
       "       150619.46239119, 181474.70056714, 148258.82311106, 232489.33645322,\n",
       "       192368.41293188, 132879.36123167, 119229.89155732, 107553.58844503,\n",
       "       169264.18986379, 162790.06948187, 289132.73563001, 163663.7669443 ,\n",
       "        66679.0138806 , 148617.04049922, 300031.9866409 , 134734.52968248,\n",
       "       237111.85835687, 241079.04460593, 113176.7210877 , 260557.30714868,\n",
       "       118929.93766459, 297263.05295164, 125826.06883775, 162457.70537995,\n",
       "       250225.9037872 ,  73626.54353023, 143637.47227734, 247280.62418599,\n",
       "       284709.58351202, 130553.92355089, 300052.52158215, 169825.00855751,\n",
       "       312842.62434157, 170990.62294843, 132659.5176732 , 146033.63406765,\n",
       "       231307.66257711, 136488.64068517, 244474.40678978,  43804.10681277,\n",
       "       195370.53995052, 125543.3298405 , 231538.38867524, 138189.39224324,\n",
       "        85723.90097944, 175834.66426883, 218053.00371034, 310071.06861211,\n",
       "       160048.28073254, 124568.55988807, 111999.28481095, 102481.46540166,\n",
       "       136256.52680361,  69249.34678403, 319339.8059173 , 240336.39104741,\n",
       "       250256.1201182 , 228661.24899661, 231582.11534591, 213592.84531315,\n",
       "       149488.02200204,  98398.22202461, 131319.44065084, 160822.93715958,\n",
       "        50608.01132642, 106019.61229121, 209776.86022053, 104329.96081195,\n",
       "       218578.97989929, 153028.78425808, 138790.82307841, 116371.75243204,\n",
       "       376229.03882273, 312182.39757653, 238698.22584316, 204224.46702378,\n",
       "       228394.62018032, 110493.20778684, 195011.47073948, 299123.39682362,\n",
       "       214730.03410179, 146097.56716743, 183011.7531348 , 186123.25527487,\n",
       "       105653.67715991, 210165.61902863, 212875.65963437, 185685.86537964,\n",
       "       227763.70261485, 168869.6800551 ,  81687.46008016, 151405.34045645,\n",
       "       286034.38379655, 310581.6102184 , 150031.59056732, 170930.87118375,\n",
       "          986.39114767, 252793.50312589,  64162.2327776 , 109465.30317619,\n",
       "       287681.3663742 , 118151.96646836, 216480.71341288, 256612.9359173 ,\n",
       "       252500.3119063 ,  43874.95001556, 177643.01156376, 211154.61216665,\n",
       "       245176.25742525, 261892.59269434, 170737.73218453, 196476.19142592,\n",
       "       226980.18538575, 342948.40905334, 311470.72119477,  78998.1397019 ,\n",
       "       245184.41607635, 212652.08767536,  83394.6247714 , 185059.85949611,\n",
       "       181270.30184893, 182012.34095155, 264157.45714525,  49474.2196822 ,\n",
       "       154262.1241251 , 245213.32357626, 310953.50632394, 149456.82165779,\n",
       "       154237.53352881, 143879.13004846, 204090.57709488, 132377.55020556,\n",
       "       212837.71578686, 124251.41814591, 181649.90942452, 316952.26129397,\n",
       "       211621.87209484, 153768.85119626, 104429.39416074, 274678.77666652,\n",
       "       116821.05323877, 174608.4817033 ,  50328.2895999 , 104804.51528376,\n",
       "        97341.44147596, 181789.15386145, 166846.80188019, 247852.54218339,\n",
       "       173667.09480433, 132522.13200199, 215026.15722686, 157214.16852553,\n",
       "       348601.28904252, 150062.82895981, 233897.55183275, 124073.6604064 ,\n",
       "       112036.50997353, 147821.08408318, 114663.98484467, 324507.50806366,\n",
       "        93933.47628302,  73180.05747921, 193259.64396821, 117652.7658759 ,\n",
       "       204327.70914537, 286370.35810842, 116584.82873697, 181966.80398728,\n",
       "       125268.17961157, 150894.62669789, 205892.10313327, 183778.89253857])"
      ]
     },
     "execution_count": 136,
     "metadata": {},
     "output_type": "execute_result"
    }
   ],
   "source": [
    "a=np.dot(M_transform,w)\n",
    "n_pred=a+b\n",
    "n_pred\n",
    "\n"
   ]
  },
  {
   "cell_type": "code",
   "execution_count": 138,
   "id": "a87559ac-05e5-4141-ae0c-1432ac797e51",
   "metadata": {},
   "outputs": [
    {
     "data": {
      "text/html": [
       "<div>\n",
       "<style scoped>\n",
       "    .dataframe tbody tr th:only-of-type {\n",
       "        vertical-align: middle;\n",
       "    }\n",
       "\n",
       "    .dataframe tbody tr th {\n",
       "        vertical-align: top;\n",
       "    }\n",
       "\n",
       "    .dataframe thead th {\n",
       "        text-align: right;\n",
       "    }\n",
       "</style>\n",
       "<table border=\"1\" class=\"dataframe\">\n",
       "  <thead>\n",
       "    <tr style=\"text-align: right;\">\n",
       "      <th></th>\n",
       "      <th>n_actual</th>\n",
       "      <th>n_predicted</th>\n",
       "    </tr>\n",
       "  </thead>\n",
       "  <tbody>\n",
       "    <tr>\n",
       "      <th>0</th>\n",
       "      <td>281000</td>\n",
       "      <td>265723.6</td>\n",
       "    </tr>\n",
       "    <tr>\n",
       "      <th>1</th>\n",
       "      <td>139000</td>\n",
       "      <td>179969.6</td>\n",
       "    </tr>\n",
       "    <tr>\n",
       "      <th>2</th>\n",
       "      <td>147400</td>\n",
       "      <td>172001.3</td>\n",
       "    </tr>\n",
       "    <tr>\n",
       "      <th>3</th>\n",
       "      <td>153500</td>\n",
       "      <td>178543.3</td>\n",
       "    </tr>\n",
       "    <tr>\n",
       "      <th>4</th>\n",
       "      <td>86000</td>\n",
       "      <td>77581.7</td>\n",
       "    </tr>\n",
       "    <tr>\n",
       "      <th>...</th>\n",
       "      <td>...</td>\n",
       "      <td>...</td>\n",
       "    </tr>\n",
       "    <tr>\n",
       "      <th>287</th>\n",
       "      <td>158000</td>\n",
       "      <td>181966.8</td>\n",
       "    </tr>\n",
       "    <tr>\n",
       "      <th>288</th>\n",
       "      <td>118000</td>\n",
       "      <td>125268.2</td>\n",
       "    </tr>\n",
       "    <tr>\n",
       "      <th>289</th>\n",
       "      <td>140000</td>\n",
       "      <td>150894.6</td>\n",
       "    </tr>\n",
       "    <tr>\n",
       "      <th>290</th>\n",
       "      <td>159895</td>\n",
       "      <td>205892.1</td>\n",
       "    </tr>\n",
       "    <tr>\n",
       "      <th>291</th>\n",
       "      <td>178900</td>\n",
       "      <td>183778.9</td>\n",
       "    </tr>\n",
       "  </tbody>\n",
       "</table>\n",
       "<p>292 rows × 2 columns</p>\n",
       "</div>"
      ],
      "text/plain": [
       "     n_actual  n_predicted\n",
       "0      281000     265723.6\n",
       "1      139000     179969.6\n",
       "2      147400     172001.3\n",
       "3      153500     178543.3\n",
       "4       86000      77581.7\n",
       "..        ...          ...\n",
       "287    158000     181966.8\n",
       "288    118000     125268.2\n",
       "289    140000     150894.6\n",
       "290    159895     205892.1\n",
       "291    178900     183778.9\n",
       "\n",
       "[292 rows x 2 columns]"
      ]
     },
     "execution_count": 138,
     "metadata": {},
     "output_type": "execute_result"
    }
   ],
   "source": [
    "df_preds=pd.DataFrame()\n",
    "df_preds[\"n_actual\"]=n\n",
    "df_preds[\"n_predicted\"]=np.round(n_pred,1)\n",
    "df_preds"
   ]
  },
  {
   "cell_type": "code",
   "execution_count": 140,
   "id": "c31d3c42-320c-417c-bd2f-37de8d2f2900",
   "metadata": {},
   "outputs": [
    {
     "data": {
      "text/plain": [
       "99.00174577644766"
      ]
     },
     "execution_count": 140,
     "metadata": {},
     "output_type": "execute_result"
    }
   ],
   "source": [
    "e=df_preds[\"n_actual\"].sum()\n",
    "f=df_preds[\"n_predicted\"].sum()\n",
    "acc=(f/e)*100\n",
    "acc"
   ]
  },
  {
   "cell_type": "code",
   "execution_count": null,
   "id": "f97639d4-a778-4b5c-b4aa-9a7cbc32d83a",
   "metadata": {},
   "outputs": [],
   "source": []
  },
  {
   "cell_type": "code",
   "execution_count": null,
   "id": "daaa6990-4a55-4b26-9bb0-43f47b6b43b2",
   "metadata": {},
   "outputs": [],
   "source": []
  }
 ],
 "metadata": {
  "kernelspec": {
   "display_name": "Python 3 (ipykernel)",
   "language": "python",
   "name": "python3"
  },
  "language_info": {
   "codemirror_mode": {
    "name": "ipython",
    "version": 3
   },
   "file_extension": ".py",
   "mimetype": "text/x-python",
   "name": "python",
   "nbconvert_exporter": "python",
   "pygments_lexer": "ipython3",
   "version": "3.8.10"
  }
 },
 "nbformat": 4,
 "nbformat_minor": 5
}
